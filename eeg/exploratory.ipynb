{
 "cells": [
  {
   "cell_type": "code",
   "execution_count": 3,
   "metadata": {},
   "outputs": [],
   "source": [
    "import mne"
   ]
  },
  {
   "cell_type": "code",
   "execution_count": null,
   "metadata": {},
   "outputs": [
    {
     "name": "stdout",
     "output_type": "stream",
     "text": [
      "Opening raw data file /mnt/d/work/eeg_smokers_data/clean/S06_clean.fif...\n",
      "    Range : 60000 ... 405459 =    120.000 ...   810.918 secs\n",
      "Ready.\n",
      "Reading 0 ... 345459  =      0.000 ...   690.918 secs...\n"
     ]
    },
    {
     "name": "stderr",
     "output_type": "stream",
     "text": [
      "/tmp/ipykernel_66512/3161854311.py:3: RuntimeWarning: This filename (/mnt/d/work/eeg_smokers_data/clean/S06_clean.fif) does not conform to MNE naming conventions. All raw files should end with raw.fif, raw_sss.fif, raw_tsss.fif, _meg.fif, _eeg.fif, _ieeg.fif, raw.fif.gz, raw_sss.fif.gz, raw_tsss.fif.gz, _meg.fif.gz, _eeg.fif.gz or _ieeg.fif.gz\n",
      "  raw = mne.io.read_raw_fif(fif_file, preload=True)\n"
     ]
    },
    {
     "data": {
      "text/plain": [
       "np.float64(690.918)"
      ]
     },
     "execution_count": 13,
     "metadata": {},
     "output_type": "execute_result"
    }
   ],
   "source": [
    "fif_file = \"/mnt/d/work/eeg_smokers_data/clean/S06_clean.fif\"\n",
    "\n",
    "eeg_data = mne.io.read_raw_fif(fif_file, preload=True)\n",
    "\n",
    "total_duration = eeg_data.times[-1]\n",
    "total_duration"
   ]
  }
 ],
 "metadata": {
  "kernelspec": {
   "display_name": "base",
   "language": "python",
   "name": "python3"
  },
  "language_info": {
   "codemirror_mode": {
    "name": "ipython",
    "version": 3
   },
   "file_extension": ".py",
   "mimetype": "text/x-python",
   "name": "python",
   "nbconvert_exporter": "python",
   "pygments_lexer": "ipython3",
   "version": "3.12.2"
  }
 },
 "nbformat": 4,
 "nbformat_minor": 2
}
